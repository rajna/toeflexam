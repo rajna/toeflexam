{
 "cells": [
  {
   "cell_type": "code",
   "execution_count": 3,
   "metadata": {
    "collapsed": true
   },
   "outputs": [],
   "source": [
    "#coding=utf-8\n",
    "import random\n",
    "import string\n",
    "import os\n",
    "import pandas as pd\n",
    "import datetime\n",
    "import json\n",
    "import csv\n"
   ]
  },
  {
   "cell_type": "code",
   "execution_count": null,
   "metadata": {
    "collapsed": true
   },
   "outputs": [],
   "source": [
    "number = 10#激活码的数量\n",
    "\n",
    "length = 12#激活码的长度\n",
    "\n",
    "expires = 1#一年有效期\n",
    "\n",
    "cols=[\"userphone\",\"username\",\"usercode\",\"starttime\",\"endtime\"]\n",
    "\n",
    "account_cell = pd.Series([0]*5,index = cols)\n",
    "    \n",
    "flag = os.path.isfile('accounts.csv')\n",
    "\n",
    "writemode=\"w+\"\n",
    "isheader=False\n",
    "            \n",
    "if flag:\n",
    "    writemode=\"a\"\n",
    "else:\n",
    "    isheader=True\n",
    "    csvFile = open(\"accounts.csv\", \"a\",encoding='utf-8')    #创建csv文件\n",
    "    writer = csv.writer(csvFile)                     #创建写的对象\n",
    "    writer.writerow(cols)     #写入列的名称"
   ]
  },
  {
   "cell_type": "code",
   "execution_count": 143,
   "metadata": {
    "collapsed": true
   },
   "outputs": [],
   "source": [
    "\n",
    "def made(): #生成激活码\n",
    "    activation_code = \"\".join(random.sample('ABCDEFGHIJKLMNOPQRSTUVWXYZ0123456!@#$%^&*()_+',length)).replace(\" \",\"\")\n",
    "    return activation_code\n",
    " \n",
    "account = pd.DataFrame(columns=cols) \n",
    " \n",
    "def judge(cell):#判断生成的激活码是否和字典中存在的激活码重复\n",
    "    new_made = made()\n",
    "    \n",
    "    isIn=False\n",
    "    \n",
    "    flag = os.path.isfile('accounts.csv')\n",
    "    if flag:\n",
    "        try:\n",
    "            codeSet=pd.read_csv('accounts.csv') \n",
    "            codeSet=set(codeSet[\"usercode\"].values.tolist())\n",
    "            if name in nameSet:\n",
    "                isIn=True\n",
    "        except:\n",
    "            pass\n",
    "\n",
    "    if isIn==True:\n",
    "        judge(cell)\n",
    "    else:\n",
    "        \n",
    "        nowtime = datetime.datetime.now()\n",
    "        account_cell[\"userphone\"] = \"\"\n",
    "        account_cell[\"username\"] = \"\"\n",
    "        account_cell[\"usercode\"] = new_made\n",
    "        account_cell[\"starttime\"] = nowtime.strftime(\"%Y-%m-%d %H:%M:%S\")\n",
    "        account_cell[\"endtime\"] = (nowtime + datetime.timedelta(days=365*expires)).strftime(\"%Y-%m-%d %H:%M:%S\")\n",
    "        cell = cell.append(account_cell,ignore_index=True)\n",
    "        return cell\n",
    " \n",
    "for i in range(0,number):\n",
    "    account = judge(account)\n",
    "\n",
    "account.to_csv(\"accounts.csv\", encoding=\"utf-8-sig\", mode=writemode, header=isheader, index=False)\n",
    "#for j in a:\n",
    "#    print('%4d'%(j),'   ',a[j])"
   ]
  },
  {
   "cell_type": "code",
   "execution_count": 4,
   "metadata": {
    "collapsed": true
   },
   "outputs": [],
   "source": [
    "accountsdata = pd.read_csv('accounts.csv') \n",
    "accountsdata=accountsdata[accountsdata[\"userphone\"].notnull()]\n",
    "accountsdata=accountsdata.to_json(orient='records')\n",
    "filename='accounts.json'\n",
    "with open(filename,'w') as file_obj:\n",
    "    json.dump(accountsdata,file_obj)"
   ]
  },
  {
   "cell_type": "code",
   "execution_count": null,
   "metadata": {
    "collapsed": true
   },
   "outputs": [],
   "source": []
  }
 ],
 "metadata": {
  "kernelspec": {
   "display_name": "Python 3",
   "language": "python",
   "name": "python3"
  },
  "language_info": {
   "codemirror_mode": {
    "name": "ipython",
    "version": 3
   },
   "file_extension": ".py",
   "mimetype": "text/x-python",
   "name": "python",
   "nbconvert_exporter": "python",
   "pygments_lexer": "ipython3",
   "version": "3.6.2"
  }
 },
 "nbformat": 4,
 "nbformat_minor": 2
}
